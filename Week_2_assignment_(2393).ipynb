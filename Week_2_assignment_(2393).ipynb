{
  "nbformat": 4,
  "nbformat_minor": 0,
  "metadata": {
    "colab": {
      "name": "Week 2 assignment (2393).ipynb",
      "provenance": [],
      "collapsed_sections": [],
      "authorship_tag": "ABX9TyMw3YR7cOnjIfxkAX6FFBpI",
      "include_colab_link": true
    },
    "kernelspec": {
      "name": "python3",
      "display_name": "Python 3"
    }
  },
  "cells": [
    {
      "cell_type": "markdown",
      "metadata": {
        "id": "view-in-github",
        "colab_type": "text"
      },
      "source": [
        "<a href=\"https://colab.research.google.com/github/mokhlesurraham/OOP-II-Lab/blob/master/Week_2_assignment_(2393).ipynb\" target=\"_parent\"><img src=\"https://colab.research.google.com/assets/colab-badge.svg\" alt=\"Open In Colab\"/></a>"
      ]
    },
    {
      "cell_type": "markdown",
      "metadata": {
        "id": "_dqF18TQnqch"
      },
      "source": [
        "## **1st Code**"
      ]
    },
    {
      "cell_type": "code",
      "metadata": {
        "id": "RZlX_l23oAZ_",
        "colab": {
          "base_uri": "https://localhost:8080/",
          "height": 34
        },
        "outputId": "3fed1ae1-5ce2-4077-d89d-8c7150a51305"
      },
      "source": [
        "print (\"Mokhlesur Rahman\")"
      ],
      "execution_count": null,
      "outputs": [
        {
          "output_type": "stream",
          "text": [
            "Mokhlesur Rahman\n"
          ],
          "name": "stdout"
        }
      ]
    },
    {
      "cell_type": "markdown",
      "metadata": {
        "id": "Z8ThzGO1oUAa"
      },
      "source": [
        "## **Practice**"
      ]
    },
    {
      "cell_type": "code",
      "metadata": {
        "id": "zdNQt19jq6vX",
        "colab": {
          "base_uri": "https://localhost:8080/",
          "height": 34
        },
        "outputId": "60b41c0b-4ad3-4f26-fc10-944d76d64883"
      },
      "source": [
        "x=5\n",
        "y=7\n",
        "print(x-y)"
      ],
      "execution_count": null,
      "outputs": [
        {
          "output_type": "stream",
          "text": [
            "-2\n"
          ],
          "name": "stdout"
        }
      ]
    },
    {
      "cell_type": "code",
      "metadata": {
        "id": "aqoS0SJdoXKx",
        "colab": {
          "base_uri": "https://localhost:8080/",
          "height": 34
        },
        "outputId": "483ab2b0-dcf3-49e7-c749-3e36f080ee58"
      },
      "source": [
        "total = x+y\n",
        "print(total)"
      ],
      "execution_count": null,
      "outputs": [
        {
          "output_type": "stream",
          "text": [
            "12\n"
          ],
          "name": "stdout"
        }
      ]
    },
    {
      "cell_type": "code",
      "metadata": {
        "id": "2OPAHzm6r1gf",
        "colab": {
          "base_uri": "https://localhost:8080/",
          "height": 34
        },
        "outputId": "c59e167d-1006-4f89-b201-821365c5cd9f"
      },
      "source": [
        "n = \"abir\"\n",
        "n2 = \"tutul\"\n",
        "print(n , n2)"
      ],
      "execution_count": null,
      "outputs": [
        {
          "output_type": "stream",
          "text": [
            "abir tutul\n"
          ],
          "name": "stdout"
        }
      ]
    },
    {
      "cell_type": "markdown",
      "metadata": {
        "id": "Pc_OX3t4snSL"
      },
      "source": [
        "# **Types**"
      ]
    },
    {
      "cell_type": "code",
      "metadata": {
        "id": "K0XCHMiosx3j",
        "colab": {
          "base_uri": "https://localhost:8080/",
          "height": 34
        },
        "outputId": "41c6a0aa-429d-41dd-d819-7b35c8e70fe4"
      },
      "source": [
        "x=6\n",
        "type(x)"
      ],
      "execution_count": null,
      "outputs": [
        {
          "output_type": "execute_result",
          "data": {
            "text/plain": [
              "int"
            ]
          },
          "metadata": {
            "tags": []
          },
          "execution_count": 46
        }
      ]
    },
    {
      "cell_type": "code",
      "metadata": {
        "id": "TNkhe4WMtWK4",
        "colab": {
          "base_uri": "https://localhost:8080/",
          "height": 34
        },
        "outputId": "08a86d72-2324-4251-f771-ed305130552c"
      },
      "source": [
        "type(2.5)"
      ],
      "execution_count": null,
      "outputs": [
        {
          "output_type": "execute_result",
          "data": {
            "text/plain": [
              "float"
            ]
          },
          "metadata": {
            "tags": []
          },
          "execution_count": 45
        }
      ]
    },
    {
      "cell_type": "markdown",
      "metadata": {
        "id": "lG03r-MGu5Ml"
      },
      "source": [
        "# **Arithmetic**"
      ]
    },
    {
      "cell_type": "code",
      "metadata": {
        "id": "5h4rQTiLtp-q",
        "colab": {
          "base_uri": "https://localhost:8080/",
          "height": 34
        },
        "outputId": "bb529ea5-4bcb-413d-b741-05edc4332433"
      },
      "source": [
        "x = 8*7\n",
        "print(x)"
      ],
      "execution_count": null,
      "outputs": [
        {
          "output_type": "stream",
          "text": [
            "56\n"
          ],
          "name": "stdout"
        }
      ]
    },
    {
      "cell_type": "code",
      "metadata": {
        "id": "Kj-qqaU8wtlS",
        "colab": {
          "base_uri": "https://localhost:8080/",
          "height": 34
        },
        "outputId": "5a65340b-c454-46fe-fa8a-340375536bbd"
      },
      "source": [
        "add=7+6\n",
        "print(add)"
      ],
      "execution_count": null,
      "outputs": [
        {
          "output_type": "stream",
          "text": [
            "13\n"
          ],
          "name": "stdout"
        }
      ]
    },
    {
      "cell_type": "code",
      "metadata": {
        "id": "rarEP3Gjw2wh",
        "colab": {
          "base_uri": "https://localhost:8080/",
          "height": 34
        },
        "outputId": "a77aeb13-a18d-47c2-81ba-3881f8d08307"
      },
      "source": [
        "E=2**27\n",
        "print(E)"
      ],
      "execution_count": null,
      "outputs": [
        {
          "output_type": "stream",
          "text": [
            "134217728\n"
          ],
          "name": "stdout"
        }
      ]
    },
    {
      "cell_type": "code",
      "metadata": {
        "id": "BzQNZQKTxI2i",
        "colab": {
          "base_uri": "https://localhost:8080/",
          "height": 34
        },
        "outputId": "8935d1d7-7bf5-4965-ceb8-5d5386ff9c88"
      },
      "source": [
        "T_D=8/3\n",
        "print(T_D)"
      ],
      "execution_count": null,
      "outputs": [
        {
          "output_type": "stream",
          "text": [
            "2.6666666666666665\n"
          ],
          "name": "stdout"
        }
      ]
    },
    {
      "cell_type": "code",
      "metadata": {
        "id": "p6ZDy70CxjXR",
        "colab": {
          "base_uri": "https://localhost:8080/",
          "height": 34
        },
        "outputId": "d49b1afc-74a4-412b-920c-f324c2a47b51"
      },
      "source": [
        "f_d=8//3\n",
        "print(f_d)"
      ],
      "execution_count": null,
      "outputs": [
        {
          "output_type": "stream",
          "text": [
            "2\n"
          ],
          "name": "stdout"
        }
      ]
    },
    {
      "cell_type": "markdown",
      "metadata": {
        "id": "eTIZLdW9ykQx"
      },
      "source": [
        "# **Relational operators**"
      ]
    },
    {
      "cell_type": "code",
      "metadata": {
        "id": "lzYeYhP0x045",
        "colab": {
          "base_uri": "https://localhost:8080/",
          "height": 34
        },
        "outputId": "612e0fc6-e9e1-4dc4-8287-4c03bf92b376"
      },
      "source": [
        "x=136\n",
        "y=114\n",
        "x>y"
      ],
      "execution_count": null,
      "outputs": [
        {
          "output_type": "execute_result",
          "data": {
            "text/plain": [
              "True"
            ]
          },
          "metadata": {
            "tags": []
          },
          "execution_count": 54
        }
      ]
    },
    {
      "cell_type": "code",
      "metadata": {
        "id": "kqaV_pV2ybRy",
        "colab": {
          "base_uri": "https://localhost:8080/",
          "height": 34
        },
        "outputId": "ecfdb884-5e3b-4060-dd5c-040dbd26f7d4"
      },
      "source": [
        "x<=y"
      ],
      "execution_count": null,
      "outputs": [
        {
          "output_type": "execute_result",
          "data": {
            "text/plain": [
              "False"
            ]
          },
          "metadata": {
            "tags": []
          },
          "execution_count": 55
        }
      ]
    },
    {
      "cell_type": "markdown",
      "metadata": {
        "id": "Dq7QlklEy2aJ"
      },
      "source": [
        "# **Print Function**"
      ]
    },
    {
      "cell_type": "code",
      "metadata": {
        "id": "2ODbZeoMzRxB",
        "colab": {
          "base_uri": "https://localhost:8080/",
          "height": 34
        },
        "outputId": "95a15253-ef6a-4c28-a63e-36704579926d"
      },
      "source": [
        "print('Welcome', 'to', 'Python!')"
      ],
      "execution_count": null,
      "outputs": [
        {
          "output_type": "stream",
          "text": [
            "Welcome to Python!\n"
          ],
          "name": "stdout"
        }
      ]
    },
    {
      "cell_type": "code",
      "metadata": {
        "id": "exBgX2rgzeHy",
        "colab": {
          "base_uri": "https://localhost:8080/",
          "height": 34
        },
        "outputId": "361a9f2e-a593-4258-a689-1daebba0213c"
      },
      "source": [
        "print(\"Display \\\"hi\\\" in quotes\")"
      ],
      "execution_count": null,
      "outputs": [
        {
          "output_type": "stream",
          "text": [
            "Display \"hi\" in quotes\n"
          ],
          "name": "stdout"
        }
      ]
    },
    {
      "cell_type": "markdown",
      "metadata": {
        "id": "Aem4Acerz7Sw"
      },
      "source": [
        "\n",
        "**# Multiline Strings**"
      ]
    },
    {
      "cell_type": "code",
      "metadata": {
        "id": "gBfZdGwr0N8C",
        "colab": {
          "base_uri": "https://localhost:8080/",
          "height": 67
        },
        "outputId": "9c14cbea-c420-49fc-a982-41e01e46e9a2"
      },
      "source": [
        "print(\"\"\"This is a lengthy\n",
        "multiline string containing\n",
        "a few lines \\\n",
        "of text\"\"\")"
      ],
      "execution_count": null,
      "outputs": [
        {
          "output_type": "stream",
          "text": [
            "This is a lengthy\n",
            "multiline string containing\n",
            "a few lines of text\n"
          ],
          "name": "stdout"
        }
      ]
    },
    {
      "cell_type": "markdown",
      "metadata": {
        "id": "27AX72xc0dGg"
      },
      "source": [
        "# **Precision Handling in Python**"
      ]
    },
    {
      "cell_type": "code",
      "metadata": {
        "id": "70maGvEa0gbg",
        "colab": {
          "base_uri": "https://localhost:8080/",
          "height": 34
        },
        "outputId": "00ba770e-2f3b-4302-aee2-a20e84bbf546"
      },
      "source": [
        "a=2.686435\n",
        "# using \"%\" to print value till 4 decimal places  \n",
        "print (\"The value of number till 2 decimal place(using %) is : \",end=\"\") \n",
        "print ('%.4f' %a)"
      ],
      "execution_count": null,
      "outputs": [
        {
          "output_type": "stream",
          "text": [
            "The value of number till 2 decimal place(using %) is : 2.6864\n"
          ],
          "name": "stdout"
        }
      ]
    },
    {
      "cell_type": "markdown",
      "metadata": {
        "id": "iuQQHkNW05F5"
      },
      "source": [
        "# **Getting Input from the User**"
      ]
    },
    {
      "cell_type": "code",
      "metadata": {
        "id": "05z1rx-709tj",
        "colab": {
          "base_uri": "https://localhost:8080/",
          "height": 34
        },
        "outputId": "c6ba0e7a-51d5-42eb-fde7-a6ad9e13cfb9"
      },
      "source": [
        "name = input(\"What's your name? \")"
      ],
      "execution_count": null,
      "outputs": [
        {
          "output_type": "stream",
          "text": [
            "What's your name? mokhlesur\n"
          ],
          "name": "stdout"
        }
      ]
    },
    {
      "cell_type": "code",
      "metadata": {
        "id": "_MFlb97u2kOq",
        "colab": {
          "base_uri": "https://localhost:8080/",
          "height": 50
        },
        "outputId": "220a1a5b-dcd3-431b-995b-eeac1f34653b"
      },
      "source": [
        "value1 = input('Enter first number: ')\n",
        "value2 = input('Enter second number: ')"
      ],
      "execution_count": null,
      "outputs": [
        {
          "output_type": "stream",
          "text": [
            "Enter first number: 12\n",
            "Enter second number: 45\n"
          ],
          "name": "stdout"
        }
      ]
    },
    {
      "cell_type": "markdown",
      "metadata": {
        "id": "K2BEq9ro4VMw"
      },
      "source": [
        "# **Solving Problem**"
      ]
    },
    {
      "cell_type": "code",
      "metadata": {
        "id": "oZUyQ9dy5Eae",
        "colab": {
          "base_uri": "https://localhost:8080/",
          "height": 67
        },
        "outputId": "e07fd935-4496-4714-a4de-1788bc652a03"
      },
      "source": [
        "number1 = int(input('Enter first integer: '))\n",
        "number2 = int(input('Enter second integer: '))\n",
        "number3 = int(input('Enter third integer: '))"
      ],
      "execution_count": null,
      "outputs": [
        {
          "output_type": "stream",
          "text": [
            "Enter first integer: 23\n",
            "Enter second integer: 12\n",
            "Enter third integer: 27\n"
          ],
          "name": "stdout"
        }
      ]
    },
    {
      "cell_type": "markdown",
      "metadata": {
        "id": "DYvKpsBH6Jzo"
      },
      "source": [
        "# **Exercises**"
      ]
    },
    {
      "cell_type": "code",
      "metadata": {
        "id": "oUZM79Vv6QR4",
        "colab": {
          "base_uri": "https://localhost:8080/",
          "height": 34
        },
        "outputId": "463c8822-2018-4454-da3b-eb184f92794e"
      },
      "source": [
        "x=2\n",
        "y=3\n",
        "print('x =', x)"
      ],
      "execution_count": null,
      "outputs": [
        {
          "output_type": "stream",
          "text": [
            "x = 2\n"
          ],
          "name": "stdout"
        }
      ]
    }
  ]
}