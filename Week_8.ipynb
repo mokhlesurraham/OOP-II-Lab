{
  "nbformat": 4,
  "nbformat_minor": 0,
  "metadata": {
    "colab": {
      "name": "Copy of Copy of Week 8 task.ipynb",
      "provenance": [],
      "collapsed_sections": [],
      "include_colab_link": true
    },
    "kernelspec": {
      "name": "python3",
      "display_name": "Python 3"
    }
  },
  "cells": [
    {
      "cell_type": "markdown",
      "metadata": {
        "id": "view-in-github",
        "colab_type": "text"
      },
      "source": [
        "<a href=\"https://colab.research.google.com/github/mokhlesurraham/OOP-II-Lab/blob/master/Week_8.ipynb\" target=\"_parent\"><img src=\"https://colab.research.google.com/assets/colab-badge.svg\" alt=\"Open In Colab\"/></a>"
      ]
    },
    {
      "cell_type": "markdown",
      "metadata": {
        "id": "-zpwYawhStKt"
      },
      "source": [
        "**Create base calss** \n",
        "---\n",
        "\n"
      ]
    },
    {
      "cell_type": "code",
      "metadata": {
        "id": "KoOeWxGtlyAp"
      },
      "source": [
        "class Ball():\n",
        "  def __init__(self):\n",
        "    print(f'Ball created!')\n",
        "  \n",
        "  def who_am_i(self):\n",
        "    print(f'i am ball')"
      ],
      "execution_count": 1,
      "outputs": []
    },
    {
      "cell_type": "markdown",
      "metadata": {
        "id": "dTR3EP5qS5aa"
      },
      "source": [
        "**Create a Child(football) class**"
      ]
    },
    {
      "cell_type": "code",
      "metadata": {
        "id": "YhnTBXegS5Fs"
      },
      "source": [
        "class Football(Ball):\n",
        "  def __init__(self):\n",
        "    #create instances of Ball\n",
        "    Ball.__init__(self)\n",
        "    print(f'football created!')"
      ],
      "execution_count": 3,
      "outputs": []
    },
    {
      "cell_type": "markdown",
      "metadata": {
        "id": "24NOLmBDTD9H"
      },
      "source": [
        "**Create object**"
      ]
    },
    {
      "cell_type": "code",
      "metadata": {
        "id": "_jOJJdfCnJbY",
        "colab": {
          "base_uri": "https://localhost:8080/"
        },
        "outputId": "e357f10f-989a-4de0-8b72-aa266cd3048c"
      },
      "source": [
        "myFootball = Football()"
      ],
      "execution_count": 4,
      "outputs": [
        {
          "output_type": "stream",
          "text": [
            "Ball created!\n",
            "football created!\n"
          ],
          "name": "stdout"
        }
      ]
    },
    {
      "cell_type": "markdown",
      "metadata": {
        "id": "jPG8p1-ITkQL"
      },
      "source": [
        "**Call base method**"
      ]
    },
    {
      "cell_type": "code",
      "metadata": {
        "id": "Vb8n4Gs0n5wt",
        "colab": {
          "base_uri": "https://localhost:8080/"
        },
        "outputId": "94121c05-ef40-4e76-e49d-d80c1af0cb51"
      },
      "source": [
        "myFootball.who_am_i()"
      ],
      "execution_count": 5,
      "outputs": [
        {
          "output_type": "stream",
          "text": [
            "i am ball\n"
          ],
          "name": "stdout"
        }
      ]
    },
    {
      "cell_type": "markdown",
      "metadata": {
        "id": "tg7nqVuCZShT"
      },
      "source": [
        "**Use the super() Function**"
      ]
    },
    {
      "cell_type": "code",
      "metadata": {
        "id": "W3-0WRGFZN43"
      },
      "source": [
        "class Football(Ball):\n",
        "  def __init__(self):\n",
        "    #create instances of Ball\n",
        "    super().__init__(self)\n",
        "    print(f'football created!')"
      ],
      "execution_count": 6,
      "outputs": []
    },
    {
      "cell_type": "markdown",
      "metadata": {
        "id": "iTtza2_IZniq"
      },
      "source": [
        "**Overriding**"
      ]
    },
    {
      "cell_type": "code",
      "metadata": {
        "id": "4ppA3MgxoJUf"
      },
      "source": [
        "class Football(Ball):\n",
        "  def __init__(self):\n",
        "    #create instances of Ball\n",
        "    Ball.__init__(self)\n",
        "    print(f'football created!')\n",
        "  #overide base class method\n",
        "  def who_am_i(self):\n",
        "    print(f'i am football!')"
      ],
      "execution_count": 9,
      "outputs": []
    },
    {
      "cell_type": "markdown",
      "metadata": {
        "id": "_G9EAXYRZ4WW"
      },
      "source": [
        "**Create object**"
      ]
    },
    {
      "cell_type": "code",
      "metadata": {
        "id": "U7yXqjsdZvW2",
        "colab": {
          "base_uri": "https://localhost:8080/"
        },
        "outputId": "103327f2-add2-4db0-b58b-00bc2f620bac"
      },
      "source": [
        "myFootball = Football()\n",
        "#call overide method\n",
        "myFootball.who_am_i()"
      ],
      "execution_count": 12,
      "outputs": [
        {
          "output_type": "stream",
          "text": [
            "Ball created!\n",
            "football created!\n",
            "i am football!\n"
          ],
          "name": "stdout"
        }
      ]
    },
    {
      "cell_type": "markdown",
      "metadata": {
        "id": "0VgDIQQ6ajD3"
      },
      "source": [
        "Add new method &\n",
        "Overriding **bold text**"
      ]
    },
    {
      "cell_type": "code",
      "metadata": {
        "id": "_r8d4cytpOr-"
      },
      "source": [
        "class Football(Ball):\n",
        "  def __init__(self):\n",
        "    #create instances of Ball\n",
        "    Ball.__init__(self)\n",
        "    print(f'football created!')\n",
        "  #overide base class method\n",
        "  def who_am_i(self):\n",
        "    print(f'i am football!')\n",
        "  #new method\n",
        "  def play(self):\n",
        "    print(f'hey! i am ready for play!')"
      ],
      "execution_count": 11,
      "outputs": []
    },
    {
      "cell_type": "markdown",
      "metadata": {
        "id": "k8d8fHzfaVF2"
      },
      "source": [
        "**Create object**"
      ]
    },
    {
      "cell_type": "code",
      "metadata": {
        "id": "sllR7mLap6AN",
        "colab": {
          "base_uri": "https://localhost:8080/"
        },
        "outputId": "c6dead51-521d-405f-c0d2-f5936133319c"
      },
      "source": [
        "myFootball = Football()\n",
        "#call new method\n",
        "myFootball.play()"
      ],
      "execution_count": 13,
      "outputs": [
        {
          "output_type": "stream",
          "text": [
            "Ball created!\n",
            "football created!\n",
            "hey! i am ready for play!\n"
          ],
          "name": "stdout"
        }
      ]
    }
  ]
}