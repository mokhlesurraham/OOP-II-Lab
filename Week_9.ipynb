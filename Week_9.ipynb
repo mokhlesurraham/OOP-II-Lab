{
  "nbformat": 4,
  "nbformat_minor": 0,
  "metadata": {
    "colab": {
      "name": "Copy of Copy of Week 9 task.ipynb",
      "provenance": [],
      "collapsed_sections": [],
      "include_colab_link": true
    },
    "kernelspec": {
      "name": "python3",
      "display_name": "Python 3"
    }
  },
  "cells": [
    {
      "cell_type": "markdown",
      "metadata": {
        "id": "view-in-github",
        "colab_type": "text"
      },
      "source": [
        "<a href=\"https://colab.research.google.com/github/mokhlesurraham/OOP-II-Lab/blob/master/Week_9.ipynb\" target=\"_parent\"><img src=\"https://colab.research.google.com/assets/colab-badge.svg\" alt=\"Open In Colab\"/></a>"
      ]
    },
    {
      "cell_type": "markdown",
      "metadata": {
        "id": "JmKkD3ZBs47y"
      },
      "source": [
        "#Polymorphism in Class Methods"
      ]
    },
    {
      "cell_type": "code",
      "metadata": {
        "id": "E2EbKCJMrt0i"
      },
      "source": [
        "class Cat:\n",
        "    def __init__(self, name, age):\n",
        "        self.name = name\n",
        "        self.age = age\n",
        "\n",
        "    def info(self):\n",
        "        print(f\"I am a Cat. My name is {self.name}. I am {self.age} years old.\")\n",
        "\n",
        "    def make_sound(self):\n",
        "        print(\"Meow\")"
      ],
      "execution_count": 3,
      "outputs": []
    },
    {
      "cell_type": "code",
      "metadata": {
        "id": "ZmvemCLEr7xZ"
      },
      "source": [
        "class Mouse:\n",
        "    def __init__(self, name, age):\n",
        "        self.name = name\n",
        "        self.age = age\n",
        "\n",
        "    def info(self):\n",
        "        print(f\"I am a Mouse. My name is {self.name}. I am {self.age} years old.\")\n",
        "\n",
        "    def make_sound(self):\n",
        "        print(\"Bark\")"
      ],
      "execution_count": 5,
      "outputs": []
    },
    {
      "cell_type": "code",
      "metadata": {
        "id": "Z_NNbQiasArD"
      },
      "source": [
        "#create object\n",
        "cat1 = Cat(\"tom\", 2.5)\n",
        "mouse1 = Mouse(\"jerry\", 4)"
      ],
      "execution_count": 6,
      "outputs": []
    },
    {
      "cell_type": "code",
      "metadata": {
        "id": "EXgmWzJTse3k",
        "colab": {
          "base_uri": "https://localhost:8080/"
        },
        "outputId": "88af9362-99b9-47a1-ef60-485858324332"
      },
      "source": [
        "\n",
        "for animal in (cat1, mouse1):\n",
        "    animal.make_sound()\n",
        "    animal.info()\n",
        "    animal.make_sound()"
      ],
      "execution_count": 7,
      "outputs": [
        {
          "output_type": "stream",
          "text": [
            "Meow\n",
            "I am a Cat. My name is tom. I am 2.5 years old.\n",
            "Meow\n",
            "Bark\n",
            "I am a Mouse. My name is jerry. I am 4 years old.\n",
            "Bark\n"
          ],
          "name": "stdout"
        }
      ]
    },
    {
      "cell_type": "code",
      "metadata": {
        "id": "VKES-c7PspM1"
      },
      "source": [
        "#error and exception handling \n",
        "\n",
        "def add(n1, n2):\n",
        "  print(n1+n2)"
      ],
      "execution_count": 11,
      "outputs": []
    },
    {
      "cell_type": "code",
      "metadata": {
        "id": "dj0aa1zgtfDj",
        "colab": {
          "base_uri": "https://localhost:8080/"
        },
        "outputId": "650cafcc-5d0a-4e48-9ecc-9f68a0b7988d"
      },
      "source": [
        "add(15,25)"
      ],
      "execution_count": 12,
      "outputs": [
        {
          "output_type": "stream",
          "text": [
            "40\n"
          ],
          "name": "stdout"
        }
      ]
    },
    {
      "cell_type": "code",
      "metadata": {
        "id": "xbe0O3BEuZwE",
        "colab": {
          "base_uri": "https://localhost:8080/"
        },
        "outputId": "34d17d17-4054-40d0-c22c-12b972897761"
      },
      "source": [
        "#exception handling\n",
        "\n",
        "try:\n",
        "  #want to attempt this code \n",
        "  #may have an error\n",
        "  result = 10+'10'\n",
        "except:\n",
        "  print(f'Hey! its looks like you are not adding correctly!')"
      ],
      "execution_count": 13,
      "outputs": [
        {
          "output_type": "stream",
          "text": [
            "Hey! its looks like you are not adding correctly!\n"
          ],
          "name": "stdout"
        }
      ]
    },
    {
      "cell_type": "code",
      "metadata": {
        "id": "vRBMyc9-vb3W",
        "colab": {
          "base_uri": "https://localhost:8080/"
        },
        "outputId": "1839e197-bf49-4a6e-dfe9-1ac10204960c"
      },
      "source": [
        "#exception handling\n",
        "\n",
        "try:\n",
        "  #want to attempt this code \n",
        "  result = 10+10\n",
        "except:\n",
        "  print(f'Hey! its looks like you are not adding correctly!')\n",
        "else:\n",
        "  print(f'add went well')\n",
        "  print(f'sum is: {result}')"
      ],
      "execution_count": 14,
      "outputs": [
        {
          "output_type": "stream",
          "text": [
            "add went well\n",
            "sum is: 20\n"
          ],
          "name": "stdout"
        }
      ]
    }
  ]
}